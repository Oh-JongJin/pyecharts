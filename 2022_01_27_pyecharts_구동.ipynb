{
  "nbformat": 4,
  "nbformat_minor": 0,
  "metadata": {
    "colab": {
      "name": "2022.01.27 pyecharts 구동",
      "provenance": [],
      "collapsed_sections": [],
      "authorship_tag": "ABX9TyNz0MGTCa5XsAnADbDnRoNG",
      "include_colab_link": true
    },
    "kernelspec": {
      "name": "python3",
      "display_name": "Python 3"
    }
  },
  "cells": [
    {
      "cell_type": "markdown",
      "metadata": {
        "id": "view-in-github",
        "colab_type": "text"
      },
      "source": [
        "<a href=\"https://colab.research.google.com/github/Oh-JongJin/pyecharts/blob/main/2022_01_27_pyecharts_%EA%B5%AC%EB%8F%99.ipynb\" target=\"_parent\"><img src=\"https://colab.research.google.com/assets/colab-badge.svg\" alt=\"Open In Colab\"/></a>"
      ]
    },
    {
      "cell_type": "code",
      "metadata": {
        "id": "MhCrw21R7srA",
        "outputId": "8708b308-195c-43f3-c74f-9f38d7e7ac2c",
        "colab": {
          "base_uri": "https://localhost:8080/"
        }
      },
      "source": [
        "from google.colab import drive\n",
        "drive.mount('/content/drive')"
      ],
      "execution_count": 1,
      "outputs": [
        {
          "output_type": "stream",
          "name": "stdout",
          "text": [
            "Mounted at /content/drive\n"
          ]
        }
      ]
    },
    {
      "cell_type": "code",
      "source": [
        "!pip install pyecharts"
      ],
      "metadata": {
        "colab": {
          "base_uri": "https://localhost:8080/"
        },
        "id": "ZscpObFU6TwM",
        "outputId": "687f28ef-17f9-4e2a-939a-f2cc99f49719"
      },
      "execution_count": 4,
      "outputs": [
        {
          "output_type": "stream",
          "name": "stdout",
          "text": [
            "Collecting pyecharts\n",
            "  Downloading pyecharts-1.9.1-py3-none-any.whl (135 kB)\n",
            "\u001b[K     |████████████████████████████████| 135 kB 4.2 MB/s \n",
            "\u001b[?25hRequirement already satisfied: prettytable in /usr/local/lib/python3.7/dist-packages (from pyecharts) (3.0.0)\n",
            "Collecting simplejson\n",
            "  Downloading simplejson-3.17.6-cp37-cp37m-manylinux_2_5_x86_64.manylinux1_x86_64.manylinux_2_12_x86_64.manylinux2010_x86_64.whl (130 kB)\n",
            "\u001b[K     |████████████████████████████████| 130 kB 40.0 MB/s \n",
            "\u001b[?25hRequirement already satisfied: jinja2 in /usr/local/lib/python3.7/dist-packages (from pyecharts) (2.11.3)\n",
            "Requirement already satisfied: MarkupSafe>=0.23 in /usr/local/lib/python3.7/dist-packages (from jinja2->pyecharts) (2.0.1)\n",
            "Requirement already satisfied: wcwidth in /usr/local/lib/python3.7/dist-packages (from prettytable->pyecharts) (0.2.5)\n",
            "Requirement already satisfied: importlib-metadata in /usr/local/lib/python3.7/dist-packages (from prettytable->pyecharts) (4.10.1)\n",
            "Requirement already satisfied: zipp>=0.5 in /usr/local/lib/python3.7/dist-packages (from importlib-metadata->prettytable->pyecharts) (3.7.0)\n",
            "Requirement already satisfied: typing-extensions>=3.6.4 in /usr/local/lib/python3.7/dist-packages (from importlib-metadata->prettytable->pyecharts) (3.10.0.2)\n",
            "Installing collected packages: simplejson, pyecharts\n",
            "Successfully installed pyecharts-1.9.1 simplejson-3.17.6\n"
          ]
        }
      ]
    },
    {
      "cell_type": "code",
      "metadata": {
        "id": "XjI4uFKdN-wU",
        "colab": {
          "base_uri": "https://localhost:8080/"
        },
        "outputId": "d1125995-3748-4224-81f9-3a84bf1bdada"
      },
      "source": [
        "import pyecharts\n",
        "print(pyecharts.__version__)"
      ],
      "execution_count": 5,
      "outputs": [
        {
          "output_type": "stream",
          "name": "stdout",
          "text": [
            "1.9.1\n"
          ]
        }
      ]
    },
    {
      "cell_type": "code",
      "source": [
        "from pyecharts import Bar\n",
        "from pyecharts import options as opts"
      ],
      "metadata": {
        "id": "QQAnV0kp6kpQ"
      },
      "execution_count": null,
      "outputs": []
    }
  ]
}